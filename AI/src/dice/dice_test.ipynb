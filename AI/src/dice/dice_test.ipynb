{
 "cells": [
  {
   "cell_type": "code",
   "execution_count": 2,
   "metadata": {},
   "outputs": [],
   "source": [
    "#############################################\n",
    "# This will plot all dice positions, in 3D. #\n",
    "#############################################\n",
    "\n",
    "import json\n",
    "import os\n",
    "import time\n",
    "import numpy as np\n",
    "import matplotlib.pyplot as plt\n",
    "from matplotlib import style\n",
    "import matplotlib.patches as mpatches\n",
    "from tqdm import tqdm\n",
    "from typing import Tuple\n",
    "\n",
    "import torch\n",
    "import torch.nn as nn\n",
    "import torch.nn.functional as F\n",
    "import torch.optim as optim"
   ]
  },
  {
   "cell_type": "code",
   "execution_count": 3,
   "metadata": {},
   "outputs": [],
   "source": [
    "LOG_FILE_NAME = \"model_dice.log\"\n",
    "REFETCH_DATA = False\n",
    "BATCH_SIZE = 2\n",
    "TEST_SAVE_REP = 1 # The lower the more we'll test each batch size\n",
    "EPOCHS = 20\n",
    "LEARNING_RATE = 0.005"
   ]
  },
  {
   "cell_type": "code",
   "execution_count": 4,
   "metadata": {},
   "outputs": [
    {
     "name": "stdout",
     "output_type": "stream",
     "text": [
      "You have 0 GPU(s).\n",
      "Running on CPU.\n"
     ]
    }
   ],
   "source": [
    "# GPU Section\n",
    "print(f\"You have {torch.cuda.device_count()} GPU(s).\")\n",
    "if torch.cuda.is_available():\n",
    "    device = torch.device(\"cuda:0\")\n",
    "    print(\"Running on GPU.\")\n",
    "else:\n",
    "    device = torch.device(\"cpu\")\n",
    "    print(\"Running on CPU.\")"
   ]
  },
  {
   "cell_type": "code",
   "execution_count": 5,
   "metadata": {},
   "outputs": [
    {
     "name": "stdout",
     "output_type": "stream",
     "text": [
      "300\n"
     ]
    }
   ],
   "source": [
    "def normalize(data):\n",
    "    input, output = data['input'], data['output']\n",
    "    x, y, z = input['x'], input['y'], input['z']\n",
    "\n",
    "    # normalizing\n",
    "    x = (x + np.pi) / (2 * np.pi)\n",
    "    y = (y + np.pi) / (2 * np.pi)\n",
    "    z = (z + np.pi) / (2 * np.pi)\n",
    "\n",
    "    x_y_z = np.array([x, y, z])\n",
    "    one_hot = np.eye(6)[output[0]-1]\n",
    "    return [ x_y_z, one_hot ]\n",
    "\n",
    "class Data():\n",
    "    dir_ = \"dice_training_data.json\"\n",
    "    training_data = []\n",
    "\n",
    "    def load_data(self):\n",
    "        f = open(self.dir_)\n",
    "        file = json.load(f)\n",
    "        for i in file:\n",
    "            self.training_data.append([ normalize(i) ])\n",
    "\n",
    "        np.random.shuffle(self.training_data)\n",
    "        np.save(\"training_data_dice.npy\", np.array(self.training_data, dtype=object))\n",
    "        \n",
    "        f.close()\n",
    "\n",
    "# Getting our data\n",
    "if REFETCH_DATA:\n",
    "    data = Data()\n",
    "    data.load_data()\n",
    "    training_data = data.training_data\n",
    "else:\n",
    "    training_data = np.load(\"training_data_dice.npy\", allow_pickle=True)\n",
    "\n",
    "print(len(training_data))"
   ]
  },
  {
   "cell_type": "code",
   "execution_count": 6,
   "metadata": {},
   "outputs": [
    {
     "name": "stdout",
     "output_type": "stream",
     "text": [
      "Net(\n",
      "  (fc1): Linear(in_features=3, out_features=32, bias=True)\n",
      "  (fc2): Linear(in_features=32, out_features=64, bias=True)\n",
      "  (fc3): Linear(in_features=64, out_features=6, bias=True)\n",
      ")\n",
      "270\n",
      "30\n"
     ]
    },
    {
     "name": "stderr",
     "output_type": "stream",
     "text": [
      "/tmp/ipykernel_23188/3435830279.py:23: UserWarning: Creating a tensor from a list of numpy.ndarrays is extremely slow. Please consider converting the list to a single numpy.ndarray with numpy.array() before converting to a tensor. (Triggered internally at ../torch/csrc/utils/tensor_new.cpp:245.)\n",
      "  X = torch.Tensor([i[0] for i in training_data]).reshape(-1, 1, 3)\n"
     ]
    }
   ],
   "source": [
    "class Net(nn.Module):\n",
    "    def __init__(self):\n",
    "        super().__init__()\n",
    "        self.fc1 = nn.Linear(3 , 32)\n",
    "        self.fc2 = nn.Linear(32, 64)\n",
    "        self.fc3 = nn.Linear(64, 6 )\n",
    "    \n",
    "    def forward(self, x):\n",
    "        x = F.relu(self.fc1(x))\n",
    "        x = F.relu(self.fc2(x))\n",
    "        x = self.fc3(x)\n",
    "        return F.log_softmax(x, dim=1)\n",
    "\n",
    "# Connecting The NN To The GPU\n",
    "net = Net().to(device)\n",
    "print(net)\n",
    "\n",
    "# Optimizer and loss function\n",
    "optimizer = optim.Adam(net.parameters(), lr=LEARNING_RATE)\n",
    "loss_function = nn.MSELoss()\n",
    "\n",
    "# Our X, y data\n",
    "X = torch.Tensor([i[0] for i in training_data]).reshape(-1, 1, 3)\n",
    "y = torch.Tensor([i[1] for i in training_data])\n",
    "\n",
    "# Training and testing cutoff point\n",
    "test_train_idx = int(len(X) * 0.1)\n",
    "\n",
    "# Training data\n",
    "train_X = X[:-test_train_idx].reshape(-1, 3)\n",
    "train_y = y[:-test_train_idx]\n",
    "\n",
    "# Testing data\n",
    "test_X = X[-test_train_idx:]\n",
    "test_y = y[-test_train_idx:]\n",
    "\n",
    "print(len(train_X))\n",
    "print(len(test_X))"
   ]
  },
  {
   "cell_type": "code",
   "execution_count": 7,
   "metadata": {},
   "outputs": [],
   "source": [
    "def fwd_pass(X: torch.Tensor, y: torch.Tensor, train=False) -> Tuple[float, float]:\n",
    "    X = X.reshape(-1, 3).to(device)\n",
    "    y = y.to(device)\n",
    "\n",
    "    if train:\n",
    "        net.zero_grad()\n",
    "    outputs = net(X)\n",
    "    matches = [torch.argmax(i) == torch.argmax(j) for i, j in zip(outputs, y)]\n",
    "    acc = matches.count(True) / len(matches)\n",
    "    loss = loss_function(outputs, y)\n",
    "\n",
    "    if train:\n",
    "        loss.backward()\n",
    "        optimizer.step()\n",
    "    \n",
    "    return acc, float(loss)"
   ]
  },
  {
   "cell_type": "code",
   "execution_count": 8,
   "metadata": {},
   "outputs": [],
   "source": [
    "def test(size=32) -> Tuple[float, float]:\n",
    "    start = np.random.randint(len(test_X) - size)\n",
    "    X, y = test_X[start:start+size], test_y[start:start+size]\n",
    "    val_acc, val_loss = fwd_pass(X, y)\n",
    "    return val_acc, val_loss"
   ]
  },
  {
   "cell_type": "code",
   "execution_count": 9,
   "metadata": {},
   "outputs": [
    {
     "name": "stdout",
     "output_type": "stream",
     "text": [
      "model-1679639340\n"
     ]
    },
    {
     "name": "stderr",
     "output_type": "stream",
     "text": [
      "100%|██████████| 135/135 [00:00<00:00, 1158.45it/s]\n",
      "100%|██████████| 135/135 [00:00<00:00, 1181.89it/s]\n",
      "100%|██████████| 135/135 [00:00<00:00, 1149.63it/s]\n",
      "100%|██████████| 135/135 [00:00<00:00, 1210.02it/s]\n",
      "100%|██████████| 135/135 [00:00<00:00, 1297.80it/s]\n",
      "100%|██████████| 135/135 [00:00<00:00, 1212.97it/s]\n",
      "100%|██████████| 135/135 [00:00<00:00, 1232.01it/s]\n",
      "100%|██████████| 135/135 [00:00<00:00, 1158.03it/s]\n",
      "100%|██████████| 135/135 [00:00<00:00, 1216.90it/s]\n",
      "100%|██████████| 135/135 [00:00<00:00, 1188.33it/s]\n",
      "100%|██████████| 135/135 [00:00<00:00, 1184.64it/s]\n",
      "100%|██████████| 135/135 [00:00<00:00, 1143.63it/s]\n",
      "100%|██████████| 135/135 [00:00<00:00, 1264.68it/s]\n",
      "100%|██████████| 135/135 [00:00<00:00, 1267.12it/s]\n",
      "100%|██████████| 135/135 [00:00<00:00, 1213.12it/s]\n",
      "100%|██████████| 135/135 [00:00<00:00, 1238.26it/s]\n",
      "100%|██████████| 135/135 [00:00<00:00, 1275.11it/s]\n",
      "100%|██████████| 135/135 [00:00<00:00, 1355.27it/s]\n",
      "100%|██████████| 135/135 [00:00<00:00, 1295.88it/s]\n",
      "100%|██████████| 135/135 [00:00<00:00, 1239.66it/s]\n"
     ]
    }
   ],
   "source": [
    "MODEL_NAME = f\"model-{round(time.time())}\"\n",
    "print(MODEL_NAME)\n",
    "\n",
    "# Optimizer and loss function\n",
    "optimizer = optim.Adam(net.parameters(), lr=LEARNING_RATE)\n",
    "loss_function = nn.MSELoss()\n",
    "\n",
    "def train() -> Tuple[float, torch.Tensor]:\n",
    "    with open(LOG_FILE_NAME, \"a\") as f:\n",
    "        for epoch in range(EPOCHS):\n",
    "            for i in tqdm(range(0, len(train_X), BATCH_SIZE)):\n",
    "                batch_X = train_X[i:i+BATCH_SIZE]\n",
    "                batch_y = train_y[i:i+BATCH_SIZE]\n",
    "                \n",
    "                acc, loss = fwd_pass(batch_X, batch_y, train=True)\n",
    "\n",
    "                if i % TEST_SAVE_REP == 0:\n",
    "                    val_acc, val_loss = test(size=2)\n",
    "                    f.write(f\"{MODEL_NAME},{round(time.time(), 3)},{round(acc, 2)},{round(loss, 4)},{round(val_acc, 2)},{round(val_loss, 4)}\\n\")\n",
    "        f.close()\n",
    "\n",
    "train()"
   ]
  },
  {
   "cell_type": "code",
   "execution_count": 10,
   "metadata": {},
   "outputs": [
    {
     "data": {
      "image/png": "[encoded data removed]",
      "text/plain": [
       "<Figure size 640x480 with 2 Axes>"
      ]
     },
     "metadata": {},
     "output_type": "display_data"
    }
   ],
   "source": [
    "import matplotlib.pyplot as plt\n",
    "from matplotlib import style\n",
    "\n",
    "style.use(\"ggplot\")\n",
    "\n",
    "model_name = MODEL_NAME\n",
    "\n",
    "def create_acc_loss_graph(model_name):\n",
    "    contents = open(LOG_FILE_NAME, \"r\").read().split(\"\\n\")\n",
    "\n",
    "    times = []\n",
    "    accuracies = []\n",
    "    losses = []\n",
    "\n",
    "    val_accs = []\n",
    "    val_losses = []\n",
    "\n",
    "    for c in contents:\n",
    "        if model_name in c:\n",
    "            name, timestamp, acc, loss, val_acc, val_loss = c.split(\",\")\n",
    "\n",
    "            times.append(float(timestamp))\n",
    "            accuracies.append(float(acc))\n",
    "            losses.append(float(loss))\n",
    "\n",
    "            val_accs.append(float(val_acc))\n",
    "            val_losses.append(float(val_loss))\n",
    "\n",
    "\n",
    "    # fig = plt.figure()\n",
    "\n",
    "    ax1 = plt.subplot2grid((2,1), (0,0))\n",
    "    ax2 = plt.subplot2grid((2,1), (1,0), sharex=ax1)\n",
    "\n",
    "\n",
    "    ax1.plot(times, accuracies, label=\"acc\")\n",
    "    ax1.plot(times, val_accs, label=\"val_acc\")\n",
    "    ax1.legend(loc=2)\n",
    "    ax2.plot(times,losses, label=\"loss\")\n",
    "    ax2.plot(times,val_losses, label=\"val_loss\")\n",
    "    ax2.legend(loc=2)\n",
    "    plt.show()\n",
    "\n",
    "create_acc_loss_graph(model_name)"
   ]
  },
  {
   "cell_type": "code",
   "execution_count": 11,
   "metadata": {},
   "outputs": [],
   "source": [
    "torch.save(net.state_dict(), \"dice_ai.pth\")"
   ]
  },
  {
   "cell_type": "code",
   "execution_count": 12,
   "metadata": {},
   "outputs": [
    {
     "name": "stdout",
     "output_type": "stream",
     "text": [
      "[6.87989584e-04 6.20450648e-01 9.98770776e-01]\n",
      "\n",
      "Computer thinks it's a 3\n"
     ]
    }
   ],
   "source": [
    "d1 = {\n",
    "  \"input\": {\n",
    "    \"x\": -1.5710773661433908,\n",
    "    \"y\": 0.0021407744273951226,\n",
    "    \"z\": 2.214420626870026\n",
    "  },\n",
    "  \"output\": [\n",
    "    3\n",
    "  ]\n",
    "}\n",
    "d2 = {\n",
    "  \"input\": {\n",
    "    \"x\": -3.137269887546084,\n",
    "    \"y\": 0.7568137426227949,\n",
    "    \"z\": 3.1338692108445003\n",
    "  },\n",
    "  \"output\": [\n",
    "    1\n",
    "  ]\n",
    "}\n",
    "\n",
    "tensor = normalize(d2)[0]\n",
    "print(tensor)\n",
    "\n",
    "out = torch.Tensor(tensor).view(-1, 3)\n",
    "out = net(out).to(device)\n",
    "out = torch.exp(out)\n",
    "out = int(torch.argmax(out)) + 1\n",
    "print(\"\\nComputer thinks it's a\", out)"
   ]
  }
 ],
 "metadata": {
  "kernelspec": {
   "display_name": "venv",
   "language": "python",
   "name": "python3"
  },
  "language_info": {
   "codemirror_mode": {
    "name": "ipython",
    "version": 3
   },
   "file_extension": ".py",
   "mimetype": "text/x-python",
   "name": "python",
   "nbconvert_exporter": "python",
   "pygments_lexer": "ipython3",
   "version": "3.8.10"
  },
  "orig_nbformat": 4
 },
 "nbformat": 4,
 "nbformat_minor": 2
}
